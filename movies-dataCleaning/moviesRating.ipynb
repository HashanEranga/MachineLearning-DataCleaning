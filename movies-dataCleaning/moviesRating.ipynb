{
 "cells": [
  {
   "cell_type": "code",
   "execution_count": 28,
   "source": [
    "# Import all the required libraries\r\n",
    "import numpy as np \r\n",
    "import pandas as pd \r\n",
    "\r\n",
    "# import date time\r\n",
    "import datetime\r\n",
    "\r\n",
    "#import data visualization libraries \r\n",
    "import seaborn as sbn \r\n",
    "import matplotlib.pyplot as plt"
   ],
   "outputs": [],
   "metadata": {}
  },
  {
   "cell_type": "code",
   "execution_count": 29,
   "source": [
    "# import the datasets\r\n",
    "data = pd.read_csv('movies.csv')\r\n",
    "\r\n",
    "# lets check the size of the dataset\r\n",
    "data.shape"
   ],
   "outputs": [
    {
     "output_type": "execute_result",
     "data": {
      "text/plain": [
       "(9125, 3)"
      ]
     },
     "metadata": {},
     "execution_count": 29
    }
   ],
   "metadata": {}
  },
  {
   "cell_type": "code",
   "execution_count": 30,
   "source": [
    "# checking the head of the dataset\r\n",
    "data.head()"
   ],
   "outputs": [
    {
     "output_type": "execute_result",
     "data": {
      "text/html": [
       "<div>\n",
       "<style scoped>\n",
       "    .dataframe tbody tr th:only-of-type {\n",
       "        vertical-align: middle;\n",
       "    }\n",
       "\n",
       "    .dataframe tbody tr th {\n",
       "        vertical-align: top;\n",
       "    }\n",
       "\n",
       "    .dataframe thead th {\n",
       "        text-align: right;\n",
       "    }\n",
       "</style>\n",
       "<table border=\"1\" class=\"dataframe\">\n",
       "  <thead>\n",
       "    <tr style=\"text-align: right;\">\n",
       "      <th></th>\n",
       "      <th>movieId</th>\n",
       "      <th>title</th>\n",
       "      <th>genres</th>\n",
       "    </tr>\n",
       "  </thead>\n",
       "  <tbody>\n",
       "    <tr>\n",
       "      <td>0</td>\n",
       "      <td>1</td>\n",
       "      <td>Toy Story (1995)</td>\n",
       "      <td>Adventure|Animation|Children|Comedy|Fantasy</td>\n",
       "    </tr>\n",
       "    <tr>\n",
       "      <td>1</td>\n",
       "      <td>2</td>\n",
       "      <td>Jumanji (1995)</td>\n",
       "      <td>Adventure|Children|Fantasy</td>\n",
       "    </tr>\n",
       "    <tr>\n",
       "      <td>2</td>\n",
       "      <td>3</td>\n",
       "      <td>Grumpier Old Men (1995)</td>\n",
       "      <td>Comedy|Romance</td>\n",
       "    </tr>\n",
       "    <tr>\n",
       "      <td>3</td>\n",
       "      <td>4</td>\n",
       "      <td>Waiting to Exhale (1995)</td>\n",
       "      <td>Comedy|Drama|Romance</td>\n",
       "    </tr>\n",
       "    <tr>\n",
       "      <td>4</td>\n",
       "      <td>5</td>\n",
       "      <td>Father of the Bride Part II (1995)</td>\n",
       "      <td>Comedy</td>\n",
       "    </tr>\n",
       "  </tbody>\n",
       "</table>\n",
       "</div>"
      ],
      "text/plain": [
       "   movieId                               title  \\\n",
       "0        1                    Toy Story (1995)   \n",
       "1        2                      Jumanji (1995)   \n",
       "2        3             Grumpier Old Men (1995)   \n",
       "3        4            Waiting to Exhale (1995)   \n",
       "4        5  Father of the Bride Part II (1995)   \n",
       "\n",
       "                                        genres  \n",
       "0  Adventure|Animation|Children|Comedy|Fantasy  \n",
       "1                   Adventure|Children|Fantasy  \n",
       "2                               Comedy|Romance  \n",
       "3                         Comedy|Drama|Romance  \n",
       "4                                       Comedy  "
      ]
     },
     "metadata": {},
     "execution_count": 30
    }
   ],
   "metadata": {}
  },
  {
   "cell_type": "code",
   "execution_count": 31,
   "source": [
    "# import rating datset \r\n",
    "ratings = pd.read_csv('ratings.csv')\r\n",
    "\r\n",
    "# checking the size of the dataset\r\n",
    "ratings.shape"
   ],
   "outputs": [
    {
     "output_type": "execute_result",
     "data": {
      "text/plain": [
       "(100836, 4)"
      ]
     },
     "metadata": {},
     "execution_count": 31
    }
   ],
   "metadata": {}
  },
  {
   "cell_type": "code",
   "execution_count": 32,
   "source": [
    "# Checking the head of the dataset\r\n",
    "ratings.head()"
   ],
   "outputs": [
    {
     "output_type": "execute_result",
     "data": {
      "text/html": [
       "<div>\n",
       "<style scoped>\n",
       "    .dataframe tbody tr th:only-of-type {\n",
       "        vertical-align: middle;\n",
       "    }\n",
       "\n",
       "    .dataframe tbody tr th {\n",
       "        vertical-align: top;\n",
       "    }\n",
       "\n",
       "    .dataframe thead th {\n",
       "        text-align: right;\n",
       "    }\n",
       "</style>\n",
       "<table border=\"1\" class=\"dataframe\">\n",
       "  <thead>\n",
       "    <tr style=\"text-align: right;\">\n",
       "      <th></th>\n",
       "      <th>userId</th>\n",
       "      <th>movieId</th>\n",
       "      <th>rating</th>\n",
       "      <th>timestamp</th>\n",
       "    </tr>\n",
       "  </thead>\n",
       "  <tbody>\n",
       "    <tr>\n",
       "      <td>0</td>\n",
       "      <td>1</td>\n",
       "      <td>1</td>\n",
       "      <td>4.0</td>\n",
       "      <td>964982703</td>\n",
       "    </tr>\n",
       "    <tr>\n",
       "      <td>1</td>\n",
       "      <td>1</td>\n",
       "      <td>3</td>\n",
       "      <td>4.0</td>\n",
       "      <td>964981247</td>\n",
       "    </tr>\n",
       "    <tr>\n",
       "      <td>2</td>\n",
       "      <td>1</td>\n",
       "      <td>6</td>\n",
       "      <td>4.0</td>\n",
       "      <td>964982224</td>\n",
       "    </tr>\n",
       "    <tr>\n",
       "      <td>3</td>\n",
       "      <td>1</td>\n",
       "      <td>47</td>\n",
       "      <td>5.0</td>\n",
       "      <td>964983815</td>\n",
       "    </tr>\n",
       "    <tr>\n",
       "      <td>4</td>\n",
       "      <td>1</td>\n",
       "      <td>50</td>\n",
       "      <td>5.0</td>\n",
       "      <td>964982931</td>\n",
       "    </tr>\n",
       "  </tbody>\n",
       "</table>\n",
       "</div>"
      ],
      "text/plain": [
       "   userId  movieId  rating  timestamp\n",
       "0       1        1     4.0  964982703\n",
       "1       1        3     4.0  964981247\n",
       "2       1        6     4.0  964982224\n",
       "3       1       47     5.0  964983815\n",
       "4       1       50     5.0  964982931"
      ]
     },
     "metadata": {},
     "execution_count": 32
    }
   ],
   "metadata": {}
  },
  {
   "cell_type": "markdown",
   "source": [
    "# The main perform here is the content base filtering therefore have to merge both datasets.\r\n"
   ],
   "metadata": {}
  },
  {
   "cell_type": "code",
   "execution_count": 33,
   "source": [
    "# Merging two datasets into a one dataset\r\n",
    "data = pd.merge(data, ratings, on = 'movieId', how = 'inner')\r\n",
    "\r\n",
    "# checking the shape of the dataset\r\n",
    "data.shape"
   ],
   "outputs": [
    {
     "output_type": "execute_result",
     "data": {
      "text/plain": [
       "(96811, 6)"
      ]
     },
     "metadata": {},
     "execution_count": 33
    }
   ],
   "metadata": {}
  },
  {
   "cell_type": "code",
   "execution_count": 34,
   "source": [
    "# Checking the head of the dataset\r\n",
    "data.head()"
   ],
   "outputs": [
    {
     "output_type": "execute_result",
     "data": {
      "text/html": [
       "<div>\n",
       "<style scoped>\n",
       "    .dataframe tbody tr th:only-of-type {\n",
       "        vertical-align: middle;\n",
       "    }\n",
       "\n",
       "    .dataframe tbody tr th {\n",
       "        vertical-align: top;\n",
       "    }\n",
       "\n",
       "    .dataframe thead th {\n",
       "        text-align: right;\n",
       "    }\n",
       "</style>\n",
       "<table border=\"1\" class=\"dataframe\">\n",
       "  <thead>\n",
       "    <tr style=\"text-align: right;\">\n",
       "      <th></th>\n",
       "      <th>movieId</th>\n",
       "      <th>title</th>\n",
       "      <th>genres</th>\n",
       "      <th>userId</th>\n",
       "      <th>rating</th>\n",
       "      <th>timestamp</th>\n",
       "    </tr>\n",
       "  </thead>\n",
       "  <tbody>\n",
       "    <tr>\n",
       "      <td>0</td>\n",
       "      <td>1</td>\n",
       "      <td>Toy Story (1995)</td>\n",
       "      <td>Adventure|Animation|Children|Comedy|Fantasy</td>\n",
       "      <td>1</td>\n",
       "      <td>4.0</td>\n",
       "      <td>964982703</td>\n",
       "    </tr>\n",
       "    <tr>\n",
       "      <td>1</td>\n",
       "      <td>1</td>\n",
       "      <td>Toy Story (1995)</td>\n",
       "      <td>Adventure|Animation|Children|Comedy|Fantasy</td>\n",
       "      <td>5</td>\n",
       "      <td>4.0</td>\n",
       "      <td>847434962</td>\n",
       "    </tr>\n",
       "    <tr>\n",
       "      <td>2</td>\n",
       "      <td>1</td>\n",
       "      <td>Toy Story (1995)</td>\n",
       "      <td>Adventure|Animation|Children|Comedy|Fantasy</td>\n",
       "      <td>7</td>\n",
       "      <td>4.5</td>\n",
       "      <td>1106635946</td>\n",
       "    </tr>\n",
       "    <tr>\n",
       "      <td>3</td>\n",
       "      <td>1</td>\n",
       "      <td>Toy Story (1995)</td>\n",
       "      <td>Adventure|Animation|Children|Comedy|Fantasy</td>\n",
       "      <td>15</td>\n",
       "      <td>2.5</td>\n",
       "      <td>1510577970</td>\n",
       "    </tr>\n",
       "    <tr>\n",
       "      <td>4</td>\n",
       "      <td>1</td>\n",
       "      <td>Toy Story (1995)</td>\n",
       "      <td>Adventure|Animation|Children|Comedy|Fantasy</td>\n",
       "      <td>17</td>\n",
       "      <td>4.5</td>\n",
       "      <td>1305696483</td>\n",
       "    </tr>\n",
       "  </tbody>\n",
       "</table>\n",
       "</div>"
      ],
      "text/plain": [
       "   movieId             title                                       genres  \\\n",
       "0        1  Toy Story (1995)  Adventure|Animation|Children|Comedy|Fantasy   \n",
       "1        1  Toy Story (1995)  Adventure|Animation|Children|Comedy|Fantasy   \n",
       "2        1  Toy Story (1995)  Adventure|Animation|Children|Comedy|Fantasy   \n",
       "3        1  Toy Story (1995)  Adventure|Animation|Children|Comedy|Fantasy   \n",
       "4        1  Toy Story (1995)  Adventure|Animation|Children|Comedy|Fantasy   \n",
       "\n",
       "   userId  rating   timestamp  \n",
       "0       1     4.0   964982703  \n",
       "1       5     4.0   847434962  \n",
       "2       7     4.5  1106635946  \n",
       "3      15     2.5  1510577970  \n",
       "4      17     4.5  1305696483  "
      ]
     },
     "metadata": {},
     "execution_count": 34
    }
   ],
   "metadata": {}
  },
  {
   "cell_type": "markdown",
   "source": [
    "## Here 'movieId' , 'userId' and 'timestamp' is not necessary for this model\r\n",
    "## Therefore they have been removed as follows"
   ],
   "metadata": {}
  },
  {
   "cell_type": "code",
   "execution_count": 35,
   "source": [
    "# drop the unnecessary fields \r\n",
    "data = data.drop(['movieId', 'userId', 'timestamp'], axis=1)\r\n",
    "\r\n",
    "# checking the head of the dataset\r\n",
    "data.head()"
   ],
   "outputs": [
    {
     "output_type": "execute_result",
     "data": {
      "text/html": [
       "<div>\n",
       "<style scoped>\n",
       "    .dataframe tbody tr th:only-of-type {\n",
       "        vertical-align: middle;\n",
       "    }\n",
       "\n",
       "    .dataframe tbody tr th {\n",
       "        vertical-align: top;\n",
       "    }\n",
       "\n",
       "    .dataframe thead th {\n",
       "        text-align: right;\n",
       "    }\n",
       "</style>\n",
       "<table border=\"1\" class=\"dataframe\">\n",
       "  <thead>\n",
       "    <tr style=\"text-align: right;\">\n",
       "      <th></th>\n",
       "      <th>title</th>\n",
       "      <th>genres</th>\n",
       "      <th>rating</th>\n",
       "    </tr>\n",
       "  </thead>\n",
       "  <tbody>\n",
       "    <tr>\n",
       "      <td>0</td>\n",
       "      <td>Toy Story (1995)</td>\n",
       "      <td>Adventure|Animation|Children|Comedy|Fantasy</td>\n",
       "      <td>4.0</td>\n",
       "    </tr>\n",
       "    <tr>\n",
       "      <td>1</td>\n",
       "      <td>Toy Story (1995)</td>\n",
       "      <td>Adventure|Animation|Children|Comedy|Fantasy</td>\n",
       "      <td>4.0</td>\n",
       "    </tr>\n",
       "    <tr>\n",
       "      <td>2</td>\n",
       "      <td>Toy Story (1995)</td>\n",
       "      <td>Adventure|Animation|Children|Comedy|Fantasy</td>\n",
       "      <td>4.5</td>\n",
       "    </tr>\n",
       "    <tr>\n",
       "      <td>3</td>\n",
       "      <td>Toy Story (1995)</td>\n",
       "      <td>Adventure|Animation|Children|Comedy|Fantasy</td>\n",
       "      <td>2.5</td>\n",
       "    </tr>\n",
       "    <tr>\n",
       "      <td>4</td>\n",
       "      <td>Toy Story (1995)</td>\n",
       "      <td>Adventure|Animation|Children|Comedy|Fantasy</td>\n",
       "      <td>4.5</td>\n",
       "    </tr>\n",
       "  </tbody>\n",
       "</table>\n",
       "</div>"
      ],
      "text/plain": [
       "              title                                       genres  rating\n",
       "0  Toy Story (1995)  Adventure|Animation|Children|Comedy|Fantasy     4.0\n",
       "1  Toy Story (1995)  Adventure|Animation|Children|Comedy|Fantasy     4.0\n",
       "2  Toy Story (1995)  Adventure|Animation|Children|Comedy|Fantasy     4.5\n",
       "3  Toy Story (1995)  Adventure|Animation|Children|Comedy|Fantasy     2.5\n",
       "4  Toy Story (1995)  Adventure|Animation|Children|Comedy|Fantasy     4.5"
      ]
     },
     "metadata": {},
     "execution_count": 35
    }
   ],
   "metadata": {}
  },
  {
   "cell_type": "markdown",
   "source": [
    "## Pivot table have been used for creating a group\r\n"
   ],
   "metadata": {}
  },
  {
   "cell_type": "code",
   "execution_count": 36,
   "source": [
    "data = pd.pivot_table(data, index=['title', 'genres'],aggfunc='mean')\r\n",
    "data.reset_index(level=['title','genres'], inplace=True)\r\n",
    "data.head()"
   ],
   "outputs": [
    {
     "output_type": "execute_result",
     "data": {
      "text/html": [
       "<div>\n",
       "<style scoped>\n",
       "    .dataframe tbody tr th:only-of-type {\n",
       "        vertical-align: middle;\n",
       "    }\n",
       "\n",
       "    .dataframe tbody tr th {\n",
       "        vertical-align: top;\n",
       "    }\n",
       "\n",
       "    .dataframe thead th {\n",
       "        text-align: right;\n",
       "    }\n",
       "</style>\n",
       "<table border=\"1\" class=\"dataframe\">\n",
       "  <thead>\n",
       "    <tr style=\"text-align: right;\">\n",
       "      <th></th>\n",
       "      <th>title</th>\n",
       "      <th>genres</th>\n",
       "      <th>rating</th>\n",
       "    </tr>\n",
       "  </thead>\n",
       "  <tbody>\n",
       "    <tr>\n",
       "      <td>0</td>\n",
       "      <td>'Hellboy': The Seeds of Creation (2004)</td>\n",
       "      <td>Action|Adventure|Comedy|Documentary|Fantasy</td>\n",
       "      <td>4.000000</td>\n",
       "    </tr>\n",
       "    <tr>\n",
       "      <td>1</td>\n",
       "      <td>'Round Midnight (1986)</td>\n",
       "      <td>Drama|Musical</td>\n",
       "      <td>3.500000</td>\n",
       "    </tr>\n",
       "    <tr>\n",
       "      <td>2</td>\n",
       "      <td>'Salem's Lot (2004)</td>\n",
       "      <td>Drama|Horror|Mystery|Thriller</td>\n",
       "      <td>5.000000</td>\n",
       "    </tr>\n",
       "    <tr>\n",
       "      <td>3</td>\n",
       "      <td>'Til There Was You (1997)</td>\n",
       "      <td>Drama|Romance</td>\n",
       "      <td>4.000000</td>\n",
       "    </tr>\n",
       "    <tr>\n",
       "      <td>4</td>\n",
       "      <td>'burbs, The (1989)</td>\n",
       "      <td>Comedy</td>\n",
       "      <td>3.176471</td>\n",
       "    </tr>\n",
       "  </tbody>\n",
       "</table>\n",
       "</div>"
      ],
      "text/plain": [
       "                                     title  \\\n",
       "0  'Hellboy': The Seeds of Creation (2004)   \n",
       "1                   'Round Midnight (1986)   \n",
       "2                      'Salem's Lot (2004)   \n",
       "3                'Til There Was You (1997)   \n",
       "4                       'burbs, The (1989)   \n",
       "\n",
       "                                        genres    rating  \n",
       "0  Action|Adventure|Comedy|Documentary|Fantasy  4.000000  \n",
       "1                                Drama|Musical  3.500000  \n",
       "2                Drama|Horror|Mystery|Thriller  5.000000  \n",
       "3                                Drama|Romance  4.000000  \n",
       "4                                       Comedy  3.176471  "
      ]
     },
     "metadata": {},
     "execution_count": 36
    }
   ],
   "metadata": {}
  },
  {
   "cell_type": "markdown",
   "source": [
    "## Checking the distribution of each ratings accross the movies"
   ],
   "metadata": {}
  },
  {
   "cell_type": "code",
   "execution_count": 37,
   "source": [
    "plt.rcParams['figure.figsize'] = (20,5)\r\n",
    "plt.style.use('fivethirtyeight')\r\n",
    "sbn.distplot(data['rating'], color='black')\r\n",
    "plt.show()"
   ],
   "outputs": [
    {
     "output_type": "display_data",
     "data": {
      "image/png": "[encoded data removed]",
      "text/plain": [
       "<Figure size 1440x360 with 1 Axes>"
      ]
     },
     "metadata": {}
    }
   ],
   "metadata": {}
  },
  {
   "cell_type": "markdown",
   "source": [
    "## Accroding to this distplot it is clear that most of the ratings are within 3 and 4"
   ],
   "metadata": {}
  },
  {
   "cell_type": "code",
   "execution_count": 38,
   "source": [
    "# Lets extract the year form the movie title\r\n",
    "data['y'] = data['title'].str.split(' ')\r\n",
    "data['year'] = data['y'].apply(lambda x : x[-1])\r\n",
    "\r\n",
    "# dropping unnecessary 'y' column in the dataset\r\n",
    "data = data.drop(['y'], axis=1)\r\n",
    "\r\n",
    "# removing the starting and ending brackets from the string\r\n",
    "data['year'] = data['year'].str.strip(')')\r\n",
    "data['year'] = data['year'].str.strip('(')\r\n",
    "\r\n",
    "# Checking values after the extraction of the data\r\n",
    "pd.set_option('max_rows', 110)\r\n",
    "data['year'].value_counts()"
   ],
   "outputs": [
    {
     "output_type": "execute_result",
     "data": {
      "text/plain": [
       "2002    244\n",
       "1996    240\n",
       "1995    228\n",
       "2001    227\n",
       "2000    225\n",
       "1998    225\n",
       "1999    221\n",
       "1997    217\n",
       "2004    206\n",
       "2006    204\n",
       "1994    198\n",
       "2003    197\n",
       "2007    195\n",
       "2005    195\n",
       "2009    190\n",
       "2008    189\n",
       "2011    180\n",
       "2010    179\n",
       "2014    170\n",
       "2013    166\n",
       "1993    166\n",
       "2012    160\n",
       "2015    148\n",
       "1988    133\n",
       "1992    127\n",
       "1987    123\n",
       "1990    117\n",
       "1986    115\n",
       "1989    115\n",
       "1991    111\n",
       "1985    105\n",
       "1984     77\n",
       "1982     71\n",
       "1983     67\n",
       "1981     64\n",
       "1980     63\n",
       "2016     52\n",
       "1979     48\n",
       "1977     47\n",
       "1978     46\n",
       "1973     41\n",
       "1974     39\n",
       "1971     33\n",
       "1965     32\n",
       "1962     32\n",
       "1955     32\n",
       "1975     32\n",
       "1959     32\n",
       "1964     31\n",
       "1976     31\n",
       "1966     30\n",
       "1960     30\n",
       "1972     30\n",
       "1963     29\n",
       "1968     28\n",
       "1967     28\n",
       "1953     26\n",
       "1957     26\n",
       "1961     25\n",
       "1958     24\n",
       "1970     23\n",
       "1956     22\n",
       "1969     22\n",
       "1939     20\n",
       "1942     20\n",
       "1954     20\n",
       "1947     17\n",
       "1940     17\n",
       "1951     16\n",
       "1946     16\n",
       "1950     16\n",
       "1948     16\n",
       "1941     15\n",
       "1949     15\n",
       "1937     14\n",
       "1952     13\n",
       "1945     13\n",
       "1944     12\n",
       "1936     11\n",
       "1938     10\n",
       "1931      9\n",
       "1932      8\n",
       "1933      8\n",
       "1934      7\n",
       "1943      6\n",
       "1935      6\n",
       "1927      4\n",
       "1929      4\n",
       "1924      4\n",
       "1928      4\n",
       "1925      4\n",
       "1930      3\n",
       "1926      3\n",
       "1923      2\n",
       "1916      2\n",
       "1920      1\n",
       "1922      1\n",
       "1917      1\n",
       "1921      1\n",
       "Road      1\n",
       "1902      1\n",
       "1915      1\n",
       "          1\n",
       "Name: year, dtype: int64"
      ]
     },
     "metadata": {},
     "execution_count": 38
    }
   ],
   "metadata": {}
  },
  {
   "cell_type": "markdown",
   "source": [
    "# Cleaning the dirty values and clean the dataset. \r\n"
   ],
   "metadata": {}
  },
  {
   "cell_type": "code",
   "execution_count": 39,
   "source": [
    "data['year'] = data['year'].replace(('2007-', 'Despot', 'Things', '1975-1979', 'Road', ''), ('2007', '2016', '2016', '1979', '2002', '1996'))\r\n",
    "\r\n",
    "# convert the data type of the year into integer datatype\r\n",
    "data['year'] = data['year'].astype(int)\r\n",
    "\r\n",
    "# checking the head\r\n",
    "data.head()"
   ],
   "outputs": [
    {
     "output_type": "execute_result",
     "data": {
      "text/html": [
       "<div>\n",
       "<style scoped>\n",
       "    .dataframe tbody tr th:only-of-type {\n",
       "        vertical-align: middle;\n",
       "    }\n",
       "\n",
       "    .dataframe tbody tr th {\n",
       "        vertical-align: top;\n",
       "    }\n",
       "\n",
       "    .dataframe thead th {\n",
       "        text-align: right;\n",
       "    }\n",
       "</style>\n",
       "<table border=\"1\" class=\"dataframe\">\n",
       "  <thead>\n",
       "    <tr style=\"text-align: right;\">\n",
       "      <th></th>\n",
       "      <th>title</th>\n",
       "      <th>genres</th>\n",
       "      <th>rating</th>\n",
       "      <th>year</th>\n",
       "    </tr>\n",
       "  </thead>\n",
       "  <tbody>\n",
       "    <tr>\n",
       "      <td>0</td>\n",
       "      <td>'Hellboy': The Seeds of Creation (2004)</td>\n",
       "      <td>Action|Adventure|Comedy|Documentary|Fantasy</td>\n",
       "      <td>4.000000</td>\n",
       "      <td>2004</td>\n",
       "    </tr>\n",
       "    <tr>\n",
       "      <td>1</td>\n",
       "      <td>'Round Midnight (1986)</td>\n",
       "      <td>Drama|Musical</td>\n",
       "      <td>3.500000</td>\n",
       "      <td>1986</td>\n",
       "    </tr>\n",
       "    <tr>\n",
       "      <td>2</td>\n",
       "      <td>'Salem's Lot (2004)</td>\n",
       "      <td>Drama|Horror|Mystery|Thriller</td>\n",
       "      <td>5.000000</td>\n",
       "      <td>2004</td>\n",
       "    </tr>\n",
       "    <tr>\n",
       "      <td>3</td>\n",
       "      <td>'Til There Was You (1997)</td>\n",
       "      <td>Drama|Romance</td>\n",
       "      <td>4.000000</td>\n",
       "      <td>1997</td>\n",
       "    </tr>\n",
       "    <tr>\n",
       "      <td>4</td>\n",
       "      <td>'burbs, The (1989)</td>\n",
       "      <td>Comedy</td>\n",
       "      <td>3.176471</td>\n",
       "      <td>1989</td>\n",
       "    </tr>\n",
       "  </tbody>\n",
       "</table>\n",
       "</div>"
      ],
      "text/plain": [
       "                                     title  \\\n",
       "0  'Hellboy': The Seeds of Creation (2004)   \n",
       "1                   'Round Midnight (1986)   \n",
       "2                      'Salem's Lot (2004)   \n",
       "3                'Til There Was You (1997)   \n",
       "4                       'burbs, The (1989)   \n",
       "\n",
       "                                        genres    rating  year  \n",
       "0  Action|Adventure|Comedy|Documentary|Fantasy  4.000000  2004  \n",
       "1                                Drama|Musical  3.500000  1986  \n",
       "2                Drama|Horror|Mystery|Thriller  5.000000  2004  \n",
       "3                                Drama|Romance  4.000000  1997  \n",
       "4                                       Comedy  3.176471  1989  "
      ]
     },
     "metadata": {},
     "execution_count": 39
    }
   ],
   "metadata": {}
  },
  {
   "cell_type": "code",
   "execution_count": 40,
   "source": [
    "data.head()"
   ],
   "outputs": [
    {
     "output_type": "execute_result",
     "data": {
      "text/html": [
       "<div>\n",
       "<style scoped>\n",
       "    .dataframe tbody tr th:only-of-type {\n",
       "        vertical-align: middle;\n",
       "    }\n",
       "\n",
       "    .dataframe tbody tr th {\n",
       "        vertical-align: top;\n",
       "    }\n",
       "\n",
       "    .dataframe thead th {\n",
       "        text-align: right;\n",
       "    }\n",
       "</style>\n",
       "<table border=\"1\" class=\"dataframe\">\n",
       "  <thead>\n",
       "    <tr style=\"text-align: right;\">\n",
       "      <th></th>\n",
       "      <th>title</th>\n",
       "      <th>genres</th>\n",
       "      <th>rating</th>\n",
       "      <th>year</th>\n",
       "    </tr>\n",
       "  </thead>\n",
       "  <tbody>\n",
       "    <tr>\n",
       "      <td>0</td>\n",
       "      <td>'Hellboy': The Seeds of Creation (2004)</td>\n",
       "      <td>Action|Adventure|Comedy|Documentary|Fantasy</td>\n",
       "      <td>4.000000</td>\n",
       "      <td>2004</td>\n",
       "    </tr>\n",
       "    <tr>\n",
       "      <td>1</td>\n",
       "      <td>'Round Midnight (1986)</td>\n",
       "      <td>Drama|Musical</td>\n",
       "      <td>3.500000</td>\n",
       "      <td>1986</td>\n",
       "    </tr>\n",
       "    <tr>\n",
       "      <td>2</td>\n",
       "      <td>'Salem's Lot (2004)</td>\n",
       "      <td>Drama|Horror|Mystery|Thriller</td>\n",
       "      <td>5.000000</td>\n",
       "      <td>2004</td>\n",
       "    </tr>\n",
       "    <tr>\n",
       "      <td>3</td>\n",
       "      <td>'Til There Was You (1997)</td>\n",
       "      <td>Drama|Romance</td>\n",
       "      <td>4.000000</td>\n",
       "      <td>1997</td>\n",
       "    </tr>\n",
       "    <tr>\n",
       "      <td>4</td>\n",
       "      <td>'burbs, The (1989)</td>\n",
       "      <td>Comedy</td>\n",
       "      <td>3.176471</td>\n",
       "      <td>1989</td>\n",
       "    </tr>\n",
       "  </tbody>\n",
       "</table>\n",
       "</div>"
      ],
      "text/plain": [
       "                                     title  \\\n",
       "0  'Hellboy': The Seeds of Creation (2004)   \n",
       "1                   'Round Midnight (1986)   \n",
       "2                      'Salem's Lot (2004)   \n",
       "3                'Til There Was You (1997)   \n",
       "4                       'burbs, The (1989)   \n",
       "\n",
       "                                        genres    rating  year  \n",
       "0  Action|Adventure|Comedy|Documentary|Fantasy  4.000000  2004  \n",
       "1                                Drama|Musical  3.500000  1986  \n",
       "2                Drama|Horror|Mystery|Thriller  5.000000  2004  \n",
       "3                                Drama|Romance  4.000000  1997  \n",
       "4                                       Comedy  3.176471  1989  "
      ]
     },
     "metadata": {},
     "execution_count": 40
    }
   ],
   "metadata": {}
  },
  {
   "cell_type": "markdown",
   "source": [
    "# Removing year from the dataset"
   ],
   "metadata": {}
  },
  {
   "cell_type": "code",
   "execution_count": 42,
   "source": [
    "# remove the year from the title\r\n",
    "data['title'] = data['title'].str.split(' ')\r\n",
    "data['title'] = data['title'].apply(lambda x: ' '.join(x[:-1]))\r\n",
    "\r\n",
    "data.head()"
   ],
   "outputs": [
    {
     "output_type": "execute_result",
     "data": {
      "text/html": [
       "<div>\n",
       "<style scoped>\n",
       "    .dataframe tbody tr th:only-of-type {\n",
       "        vertical-align: middle;\n",
       "    }\n",
       "\n",
       "    .dataframe tbody tr th {\n",
       "        vertical-align: top;\n",
       "    }\n",
       "\n",
       "    .dataframe thead th {\n",
       "        text-align: right;\n",
       "    }\n",
       "</style>\n",
       "<table border=\"1\" class=\"dataframe\">\n",
       "  <thead>\n",
       "    <tr style=\"text-align: right;\">\n",
       "      <th></th>\n",
       "      <th>title</th>\n",
       "      <th>genres</th>\n",
       "      <th>rating</th>\n",
       "      <th>year</th>\n",
       "    </tr>\n",
       "  </thead>\n",
       "  <tbody>\n",
       "    <tr>\n",
       "      <td>0</td>\n",
       "      <td>'Hellboy': The Seeds of</td>\n",
       "      <td>Action|Adventure|Comedy|Documentary|Fantasy</td>\n",
       "      <td>4.000000</td>\n",
       "      <td>2004</td>\n",
       "    </tr>\n",
       "    <tr>\n",
       "      <td>1</td>\n",
       "      <td>'Round</td>\n",
       "      <td>Drama|Musical</td>\n",
       "      <td>3.500000</td>\n",
       "      <td>1986</td>\n",
       "    </tr>\n",
       "    <tr>\n",
       "      <td>2</td>\n",
       "      <td>'Salem's</td>\n",
       "      <td>Drama|Horror|Mystery|Thriller</td>\n",
       "      <td>5.000000</td>\n",
       "      <td>2004</td>\n",
       "    </tr>\n",
       "    <tr>\n",
       "      <td>3</td>\n",
       "      <td>'Til There Was</td>\n",
       "      <td>Drama|Romance</td>\n",
       "      <td>4.000000</td>\n",
       "      <td>1997</td>\n",
       "    </tr>\n",
       "    <tr>\n",
       "      <td>4</td>\n",
       "      <td>'burbs,</td>\n",
       "      <td>Comedy</td>\n",
       "      <td>3.176471</td>\n",
       "      <td>1989</td>\n",
       "    </tr>\n",
       "  </tbody>\n",
       "</table>\n",
       "</div>"
      ],
      "text/plain": [
       "                     title                                       genres  \\\n",
       "0  'Hellboy': The Seeds of  Action|Adventure|Comedy|Documentary|Fantasy   \n",
       "1                   'Round                                Drama|Musical   \n",
       "2                 'Salem's                Drama|Horror|Mystery|Thriller   \n",
       "3           'Til There Was                                Drama|Romance   \n",
       "4                  'burbs,                                       Comedy   \n",
       "\n",
       "     rating  year  \n",
       "0  4.000000  2004  \n",
       "1  3.500000  1986  \n",
       "2  5.000000  2004  \n",
       "3  4.000000  1997  \n",
       "4  3.176471  1989  "
      ]
     },
     "metadata": {},
     "execution_count": 42
    }
   ],
   "metadata": {}
  },
  {
   "cell_type": "code",
   "execution_count": null,
   "source": [],
   "outputs": [],
   "metadata": {}
  }
 ],
 "metadata": {
  "orig_nbformat": 4,
  "language_info": {
   "name": "python",
   "version": "3.7.4",
   "mimetype": "text/x-python",
   "codemirror_mode": {
    "name": "ipython",
    "version": 3
   },
   "pygments_lexer": "ipython3",
   "nbconvert_exporter": "python",
   "file_extension": ".py"
  },
  "kernelspec": {
   "name": "python3",
   "display_name": "Python 3.7.4 64-bit ('base': conda)"
  },
  "interpreter": {
   "hash": "f0389215ecfd6642c8520d1a13a4e1088db6ed101b35e700c6c542e15a06b8a8"
  }
 },
 "nbformat": 4,
 "nbformat_minor": 2
}